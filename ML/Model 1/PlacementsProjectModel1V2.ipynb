{
  "nbformat": 4,
  "nbformat_minor": 0,
  "metadata": {
    "colab": {
      "name": "PlacementsProjectModel1V2.ipynb",
      "provenance": []
    },
    "kernelspec": {
      "name": "python3",
      "display_name": "Python 3"
    },
    "accelerator": "GPU"
  },
  "cells": [
    {
      "cell_type": "code",
      "metadata": {
        "id": "OATdVIa0DD56"
      },
      "source": [
        "import pandas as pd\n",
        "import numpy as np\n",
        "\n",
        "from keras.utils import to_categorical\n",
        "\n",
        "from keras.models import Sequential\n",
        "from keras.layers import Dense\n",
        "from keras.layers import Dropout\n",
        "from keras.layers import Flatten\n",
        "from keras.layers.convolutional import Convolution2D\n",
        "from keras.layers.convolutional import MaxPooling2D\n",
        "from sklearn.preprocessing import LabelEncoder,OneHotEncoder\n",
        "from keras import backend as K\n",
        "\n",
        "from sklearn.model_selection import train_test_split\n",
        "from sklearn import preprocessing"
      ],
      "execution_count": 1,
      "outputs": []
    },
    {
      "cell_type": "code",
      "metadata": {
        "id": "68szBjiOMhXe"
      },
      "source": [
        "data=pd.read_csv(\"data.csv\")\n"
      ],
      "execution_count": 2,
      "outputs": []
    },
    {
      "cell_type": "code",
      "metadata": {
        "id": "wTedCSC_GZkm"
      },
      "source": [
        "X = (data.iloc[:,1:].values)\n",
        "y = to_categorical(data.iloc[:,:1].values)"
      ],
      "execution_count": 3,
      "outputs": []
    },
    {
      "cell_type": "code",
      "metadata": {
        "id": "rEYk3K2NGjd9"
      },
      "source": [
        "X_train, X_test, y_train, y_test = train_test_split(X, y, test_size=0.3 )"
      ],
      "execution_count": 4,
      "outputs": []
    },
    {
      "cell_type": "code",
      "metadata": {
        "id": "KOXuDRekHXxu",
        "outputId": "10d837fc-2128-4d4c-e726-762493ccbfff",
        "colab": {
          "base_uri": "https://localhost:8080/"
        }
      },
      "source": [
        "#model\n",
        "model = Sequential()\n",
        "model.add(Dense(10, input_shape=(71,37), activation='relu'))\n",
        "model.add(Dense(5, activation='relu'))\n",
        "model.add(Dense(2, activation='softmax'))\n",
        "model.compile(loss='categorical_crossentropy', optimizer='adam', metrics=['accuracy'])\n",
        "\n",
        "model.summary()\n",
        "                                    "
      ],
      "execution_count": 11,
      "outputs": [
        {
          "output_type": "stream",
          "text": [
            "Model: \"sequential_1\"\n",
            "_________________________________________________________________\n",
            "Layer (type)                 Output Shape              Param #   \n",
            "=================================================================\n",
            "dense_2 (Dense)              (None, 71, 10)            380       \n",
            "_________________________________________________________________\n",
            "dense_3 (Dense)              (None, 71, 5)             55        \n",
            "_________________________________________________________________\n",
            "dense_4 (Dense)              (None, 71, 2)             12        \n",
            "=================================================================\n",
            "Total params: 447\n",
            "Trainable params: 447\n",
            "Non-trainable params: 0\n",
            "_________________________________________________________________\n"
          ],
          "name": "stdout"
        }
      ]
    },
    {
      "cell_type": "code",
      "metadata": {
        "id": "Sydo1U_XHhyF",
        "outputId": "20b27614-3a1f-4a1b-8055-68647b9ba2fe",
        "colab": {
          "base_uri": "https://localhost:8080/"
        }
      },
      "source": [
        "model.fit(X_train, y_train, validation_data=(X_test, y_test), epochs=50, batch_size=3)"
      ],
      "execution_count": 12,
      "outputs": [
        {
          "output_type": "stream",
          "text": [
            "Epoch 1/50\n",
            "WARNING:tensorflow:Model was constructed with shape (None, 71, 37) for input Tensor(\"dense_2_input:0\", shape=(None, 71, 37), dtype=float32), but it was called on an input with incompatible shape (None, 37).\n",
            "WARNING:tensorflow:Model was constructed with shape (None, 71, 37) for input Tensor(\"dense_2_input:0\", shape=(None, 71, 37), dtype=float32), but it was called on an input with incompatible shape (None, 37).\n",
            " 1/17 [>.............................] - ETA: 0s - loss: 59.5454 - accuracy: 0.0000e+00WARNING:tensorflow:Model was constructed with shape (None, 71, 37) for input Tensor(\"dense_2_input:0\", shape=(None, 71, 37), dtype=float32), but it was called on an input with incompatible shape (None, 37).\n",
            "17/17 [==============================] - 0s 9ms/step - loss: 12.5907 - accuracy: 0.4898 - val_loss: 2.7722 - val_accuracy: 0.8182\n",
            "Epoch 2/50\n",
            "17/17 [==============================] - 0s 3ms/step - loss: 3.8636 - accuracy: 0.7143 - val_loss: 3.0280 - val_accuracy: 0.9545\n",
            "Epoch 3/50\n",
            "17/17 [==============================] - 0s 3ms/step - loss: 3.4157 - accuracy: 0.8980 - val_loss: 2.1750 - val_accuracy: 0.9545\n",
            "Epoch 4/50\n",
            "17/17 [==============================] - 0s 3ms/step - loss: 2.1939 - accuracy: 0.9388 - val_loss: 1.2516 - val_accuracy: 0.9545\n",
            "Epoch 5/50\n",
            "17/17 [==============================] - 0s 3ms/step - loss: 1.1879 - accuracy: 0.9184 - val_loss: 0.1836 - val_accuracy: 0.9091\n",
            "Epoch 6/50\n",
            "17/17 [==============================] - 0s 3ms/step - loss: 0.3835 - accuracy: 0.9388 - val_loss: 0.1967 - val_accuracy: 0.9091\n",
            "Epoch 7/50\n",
            "17/17 [==============================] - 0s 3ms/step - loss: 0.3325 - accuracy: 0.9388 - val_loss: 0.1889 - val_accuracy: 0.9091\n",
            "Epoch 8/50\n",
            "17/17 [==============================] - 0s 3ms/step - loss: 0.1444 - accuracy: 0.9388 - val_loss: 0.2034 - val_accuracy: 0.9545\n",
            "Epoch 9/50\n",
            "17/17 [==============================] - 0s 3ms/step - loss: 0.1909 - accuracy: 0.9592 - val_loss: 1.2528 - val_accuracy: 0.5455\n",
            "Epoch 10/50\n",
            "17/17 [==============================] - 0s 3ms/step - loss: 0.1786 - accuracy: 0.9592 - val_loss: 0.1973 - val_accuracy: 0.9545\n",
            "Epoch 11/50\n",
            "17/17 [==============================] - 0s 3ms/step - loss: 0.2063 - accuracy: 0.9592 - val_loss: 0.3060 - val_accuracy: 0.9545\n",
            "Epoch 12/50\n",
            "17/17 [==============================] - 0s 4ms/step - loss: 0.3359 - accuracy: 0.9184 - val_loss: 0.8824 - val_accuracy: 0.5455\n",
            "Epoch 13/50\n",
            "17/17 [==============================] - 0s 3ms/step - loss: 0.5107 - accuracy: 0.9184 - val_loss: 0.1997 - val_accuracy: 0.9545\n",
            "Epoch 14/50\n",
            "17/17 [==============================] - 0s 4ms/step - loss: 0.1144 - accuracy: 0.9796 - val_loss: 0.5429 - val_accuracy: 0.9545\n",
            "Epoch 15/50\n",
            "17/17 [==============================] - 0s 3ms/step - loss: 0.4757 - accuracy: 0.9184 - val_loss: 0.1983 - val_accuracy: 0.9091\n",
            "Epoch 16/50\n",
            "17/17 [==============================] - 0s 3ms/step - loss: 0.2218 - accuracy: 0.8980 - val_loss: 0.1962 - val_accuracy: 0.9091\n",
            "Epoch 17/50\n",
            "17/17 [==============================] - 0s 3ms/step - loss: 0.1981 - accuracy: 0.9592 - val_loss: 0.4497 - val_accuracy: 0.7727\n",
            "Epoch 18/50\n",
            "17/17 [==============================] - 0s 3ms/step - loss: 0.1614 - accuracy: 0.9184 - val_loss: 0.1969 - val_accuracy: 0.9091\n",
            "Epoch 19/50\n",
            "17/17 [==============================] - 0s 3ms/step - loss: 0.2326 - accuracy: 0.9388 - val_loss: 0.2192 - val_accuracy: 0.9545\n",
            "Epoch 20/50\n",
            "17/17 [==============================] - 0s 3ms/step - loss: 0.8942 - accuracy: 0.8776 - val_loss: 0.5817 - val_accuracy: 0.9545\n",
            "Epoch 21/50\n",
            "17/17 [==============================] - 0s 3ms/step - loss: 0.3547 - accuracy: 0.9388 - val_loss: 2.8081 - val_accuracy: 0.3636\n",
            "Epoch 22/50\n",
            "17/17 [==============================] - 0s 3ms/step - loss: 1.4054 - accuracy: 0.8571 - val_loss: 1.2666 - val_accuracy: 0.9545\n",
            "Epoch 23/50\n",
            "17/17 [==============================] - 0s 3ms/step - loss: 1.1694 - accuracy: 0.9388 - val_loss: 0.5044 - val_accuracy: 0.9545\n",
            "Epoch 24/50\n",
            "17/17 [==============================] - 0s 3ms/step - loss: 0.4055 - accuracy: 0.9388 - val_loss: 0.2342 - val_accuracy: 0.9545\n",
            "Epoch 25/50\n",
            "17/17 [==============================] - 0s 3ms/step - loss: 0.2782 - accuracy: 0.9388 - val_loss: 0.4125 - val_accuracy: 0.9545\n",
            "Epoch 26/50\n",
            "17/17 [==============================] - 0s 3ms/step - loss: 0.3685 - accuracy: 0.9388 - val_loss: 0.3589 - val_accuracy: 0.8182\n",
            "Epoch 27/50\n",
            "17/17 [==============================] - 0s 3ms/step - loss: 1.1168 - accuracy: 0.8367 - val_loss: 0.6859 - val_accuracy: 0.9545\n",
            "Epoch 28/50\n",
            "17/17 [==============================] - 0s 3ms/step - loss: 0.4303 - accuracy: 0.9388 - val_loss: 1.0669 - val_accuracy: 0.6818\n",
            "Epoch 29/50\n",
            "17/17 [==============================] - 0s 3ms/step - loss: 0.1372 - accuracy: 0.9592 - val_loss: 0.1987 - val_accuracy: 0.9091\n",
            "Epoch 30/50\n",
            "17/17 [==============================] - 0s 3ms/step - loss: 0.1015 - accuracy: 0.9592 - val_loss: 0.2240 - val_accuracy: 0.9091\n",
            "Epoch 31/50\n",
            "17/17 [==============================] - 0s 4ms/step - loss: 0.1069 - accuracy: 0.9592 - val_loss: 0.2239 - val_accuracy: 0.9091\n",
            "Epoch 32/50\n",
            "17/17 [==============================] - 0s 3ms/step - loss: 0.1026 - accuracy: 0.9592 - val_loss: 0.7874 - val_accuracy: 0.6818\n",
            "Epoch 33/50\n",
            "17/17 [==============================] - 0s 3ms/step - loss: 0.4423 - accuracy: 0.8980 - val_loss: 0.3484 - val_accuracy: 0.9545\n",
            "Epoch 34/50\n",
            "17/17 [==============================] - 0s 3ms/step - loss: 0.4500 - accuracy: 0.8980 - val_loss: 0.3809 - val_accuracy: 0.9545\n",
            "Epoch 35/50\n",
            "17/17 [==============================] - 0s 3ms/step - loss: 0.5181 - accuracy: 0.8776 - val_loss: 0.2185 - val_accuracy: 0.9545\n",
            "Epoch 36/50\n",
            "17/17 [==============================] - 0s 3ms/step - loss: 0.6281 - accuracy: 0.9388 - val_loss: 0.5868 - val_accuracy: 0.9545\n",
            "Epoch 37/50\n",
            "17/17 [==============================] - 0s 3ms/step - loss: 0.4393 - accuracy: 0.9592 - val_loss: 0.2580 - val_accuracy: 0.8636\n",
            "Epoch 38/50\n",
            "17/17 [==============================] - 0s 4ms/step - loss: 0.0897 - accuracy: 0.9388 - val_loss: 0.2652 - val_accuracy: 0.8636\n",
            "Epoch 39/50\n",
            "17/17 [==============================] - 0s 3ms/step - loss: 0.2005 - accuracy: 0.9184 - val_loss: 0.5492 - val_accuracy: 0.9545\n",
            "Epoch 40/50\n",
            "17/17 [==============================] - 0s 3ms/step - loss: 0.7275 - accuracy: 0.9388 - val_loss: 0.2342 - val_accuracy: 0.9545\n",
            "Epoch 41/50\n",
            "17/17 [==============================] - 0s 3ms/step - loss: 0.2389 - accuracy: 0.9388 - val_loss: 0.7123 - val_accuracy: 0.9545\n",
            "Epoch 42/50\n",
            "17/17 [==============================] - 0s 3ms/step - loss: 0.7824 - accuracy: 0.9388 - val_loss: 0.2975 - val_accuracy: 0.9545\n",
            "Epoch 43/50\n",
            "17/17 [==============================] - 0s 3ms/step - loss: 0.1405 - accuracy: 0.9388 - val_loss: 0.2748 - val_accuracy: 0.9545\n",
            "Epoch 44/50\n",
            "17/17 [==============================] - 0s 3ms/step - loss: 0.2576 - accuracy: 0.9592 - val_loss: 0.8577 - val_accuracy: 0.6818\n",
            "Epoch 45/50\n",
            "17/17 [==============================] - 0s 3ms/step - loss: 0.2325 - accuracy: 0.9388 - val_loss: 1.1511 - val_accuracy: 0.6364\n",
            "Epoch 46/50\n",
            "17/17 [==============================] - 0s 3ms/step - loss: 0.3203 - accuracy: 0.9184 - val_loss: 0.2131 - val_accuracy: 0.9091\n",
            "Epoch 47/50\n",
            "17/17 [==============================] - 0s 4ms/step - loss: 0.1242 - accuracy: 0.9592 - val_loss: 0.4702 - val_accuracy: 0.9545\n",
            "Epoch 48/50\n",
            "17/17 [==============================] - 0s 3ms/step - loss: 0.3328 - accuracy: 0.9388 - val_loss: 0.8565 - val_accuracy: 0.6818\n",
            "Epoch 49/50\n",
            "17/17 [==============================] - 0s 3ms/step - loss: 0.4792 - accuracy: 0.8980 - val_loss: 0.2315 - val_accuracy: 0.9545\n",
            "Epoch 50/50\n",
            "17/17 [==============================] - 0s 3ms/step - loss: 0.3364 - accuracy: 0.9184 - val_loss: 0.3242 - val_accuracy: 0.9545\n"
          ],
          "name": "stdout"
        },
        {
          "output_type": "execute_result",
          "data": {
            "text/plain": [
              "<tensorflow.python.keras.callbacks.History at 0x7f72a84fc828>"
            ]
          },
          "metadata": {
            "tags": []
          },
          "execution_count": 12
        }
      ]
    },
    {
      "cell_type": "code",
      "metadata": {
        "id": "DiyifwNbHEGC",
        "outputId": "6ebd9672-a0c0-4053-896a-f4376c2a5b89",
        "colab": {
          "base_uri": "https://localhost:8080/",
          "height": 150
        }
      },
      "source": [
        "test1 = data.iloc[7:8,1:]\n",
        "test1"
      ],
      "execution_count": 13,
      "outputs": [
        {
          "output_type": "execute_result",
          "data": {
            "text/html": [
              "<div>\n",
              "<style scoped>\n",
              "    .dataframe tbody tr th:only-of-type {\n",
              "        vertical-align: middle;\n",
              "    }\n",
              "\n",
              "    .dataframe tbody tr th {\n",
              "        vertical-align: top;\n",
              "    }\n",
              "\n",
              "    .dataframe thead th {\n",
              "        text-align: right;\n",
              "    }\n",
              "</style>\n",
              "<table border=\"1\" class=\"dataframe\">\n",
              "  <thead>\n",
              "    <tr style=\"text-align: right;\">\n",
              "      <th></th>\n",
              "      <th>1st sem</th>\n",
              "      <th>2nd sem</th>\n",
              "      <th>3rd sem</th>\n",
              "      <th>4th sem</th>\n",
              "      <th>5th sem</th>\n",
              "      <th>6th sem</th>\n",
              "      <th>7th sem</th>\n",
              "      <th>8th sem</th>\n",
              "      <th>C</th>\n",
              "      <th>Cpp</th>\n",
              "      <th>Java</th>\n",
              "      <th>JavaScript</th>\n",
              "      <th>Python</th>\n",
              "      <th>Kotlin</th>\n",
              "      <th>HTML5</th>\n",
              "      <th>CSS3</th>\n",
              "      <th>PHP</th>\n",
              "      <th>R</th>\n",
              "      <th>Database</th>\n",
              "      <th>RestAPI</th>\n",
              "      <th>Mobile</th>\n",
              "      <th>ML AI</th>\n",
              "      <th>Web</th>\n",
              "      <th>UI UX</th>\n",
              "      <th>Cloud Computing</th>\n",
              "      <th>Data Science and Big Data</th>\n",
              "      <th>Competitive Coding</th>\n",
              "      <th>Data Structures and Algorithms</th>\n",
              "      <th>Testing</th>\n",
              "      <th>Final Hours</th>\n",
              "      <th>Technical Clubs joined</th>\n",
              "      <th>Extra Curricular Activities</th>\n",
              "      <th>Video Tutorials</th>\n",
              "      <th>Documentation</th>\n",
              "      <th>Online Courses</th>\n",
              "      <th>Technical Blogs</th>\n",
              "      <th>Soft skills and Communication</th>\n",
              "    </tr>\n",
              "  </thead>\n",
              "  <tbody>\n",
              "    <tr>\n",
              "      <th>7</th>\n",
              "      <td>6.75</td>\n",
              "      <td>6.0</td>\n",
              "      <td>5.62</td>\n",
              "      <td>4.5</td>\n",
              "      <td>5.1</td>\n",
              "      <td>5.5</td>\n",
              "      <td>5.9</td>\n",
              "      <td>8.0</td>\n",
              "      <td>2</td>\n",
              "      <td>1</td>\n",
              "      <td>3</td>\n",
              "      <td>2</td>\n",
              "      <td>0</td>\n",
              "      <td>0</td>\n",
              "      <td>2</td>\n",
              "      <td>3</td>\n",
              "      <td>2</td>\n",
              "      <td>0</td>\n",
              "      <td>2</td>\n",
              "      <td>0</td>\n",
              "      <td>3</td>\n",
              "      <td>0</td>\n",
              "      <td>4</td>\n",
              "      <td>0</td>\n",
              "      <td>2</td>\n",
              "      <td>0</td>\n",
              "      <td>0</td>\n",
              "      <td>0</td>\n",
              "      <td>0</td>\n",
              "      <td>0</td>\n",
              "      <td>1</td>\n",
              "      <td>1</td>\n",
              "      <td>1</td>\n",
              "      <td>1</td>\n",
              "      <td>0</td>\n",
              "      <td>1</td>\n",
              "      <td>8</td>\n",
              "    </tr>\n",
              "  </tbody>\n",
              "</table>\n",
              "</div>"
            ],
            "text/plain": [
              "   1st sem  2nd sem  ...  Technical Blogs  Soft skills and Communication\n",
              "7     6.75      6.0  ...                1                              8\n",
              "\n",
              "[1 rows x 37 columns]"
            ]
          },
          "metadata": {
            "tags": []
          },
          "execution_count": 13
        }
      ]
    },
    {
      "cell_type": "code",
      "metadata": {
        "id": "XX5NMbEhJpXV",
        "outputId": "7b9d9cb3-49d6-4460-b0d6-cb2fba1b1838",
        "colab": {
          "base_uri": "https://localhost:8080/"
        }
      },
      "source": [
        "model.predict(np.array(test1))"
      ],
      "execution_count": 14,
      "outputs": [
        {
          "output_type": "stream",
          "text": [
            "WARNING:tensorflow:Model was constructed with shape (None, 71, 37) for input Tensor(\"dense_2_input:0\", shape=(None, 71, 37), dtype=float32), but it was called on an input with incompatible shape (None, 37).\n"
          ],
          "name": "stdout"
        },
        {
          "output_type": "execute_result",
          "data": {
            "text/plain": [
              "array([[0.9979564 , 0.00204364]], dtype=float32)"
            ]
          },
          "metadata": {
            "tags": []
          },
          "execution_count": 14
        }
      ]
    },
    {
      "cell_type": "code",
      "metadata": {
        "id": "Hy45WzKWKqjk"
      },
      "source": [
        "model.save('model.h5')"
      ],
      "execution_count": 15,
      "outputs": []
    },
    {
      "cell_type": "code",
      "metadata": {
        "id": "C8rkB5kVNhlA",
        "outputId": "56be8d62-eab7-4e1c-d12c-0e28ce2a508f",
        "colab": {
          "base_uri": "https://localhost:8080/"
        }
      },
      "source": [
        "import tensorflow as tf\n",
        "\n",
        "model = tf.keras.models.load_model('model.h5')\n",
        "converter = tf.lite.TFLiteConverter.from_keras_model(model)\n",
        "tflite_model = converter.convert()\n",
        "open(\"converted_model.tflite\", \"wb\").write(tflite_model)"
      ],
      "execution_count": 22,
      "outputs": [
        {
          "output_type": "stream",
          "text": [
            "WARNING:tensorflow:From /usr/local/lib/python3.6/dist-packages/tensorflow/python/training/tracking/tracking.py:111: Model.state_updates (from tensorflow.python.keras.engine.training) is deprecated and will be removed in a future version.\n",
            "Instructions for updating:\n",
            "This property should not be used in TensorFlow 2.0, as updates are applied automatically.\n",
            "WARNING:tensorflow:From /usr/local/lib/python3.6/dist-packages/tensorflow/python/training/tracking/tracking.py:111: Layer.updates (from tensorflow.python.keras.engine.base_layer) is deprecated and will be removed in a future version.\n",
            "Instructions for updating:\n",
            "This property should not be used in TensorFlow 2.0, as updates are applied automatically.\n",
            "INFO:tensorflow:Assets written to: /tmp/tmpmo9b5pgv/assets\n"
          ],
          "name": "stdout"
        },
        {
          "output_type": "execute_result",
          "data": {
            "text/plain": [
              "9564"
            ]
          },
          "metadata": {
            "tags": []
          },
          "execution_count": 22
        }
      ]
    },
    {
      "cell_type": "code",
      "metadata": {
        "id": "eopZksO_NuKe"
      },
      "source": [
        ""
      ],
      "execution_count": null,
      "outputs": []
    }
  ]
}